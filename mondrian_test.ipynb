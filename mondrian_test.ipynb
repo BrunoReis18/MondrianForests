{
 "metadata": {
  "language_info": {
   "codemirror_mode": {
    "name": "ipython",
    "version": 3
   },
   "file_extension": ".py",
   "mimetype": "text/x-python",
   "name": "python",
   "nbconvert_exporter": "python",
   "pygments_lexer": "ipython3",
   "version": "3.7.0-final"
  },
  "orig_nbformat": 2,
  "kernelspec": {
   "name": "python370jvsc74a57bd05d8e558744ec76a9ad621961c425a1590fd9ba80671738e09b50444406aaa6e7",
   "display_name": "Python 3.7.0 64-bit (conda)"
  }
 },
 "nbformat": 4,
 "nbformat_minor": 2,
 "cells": [
  {
   "cell_type": "code",
   "execution_count": 1,
   "metadata": {
    "tags": []
   },
   "outputs": [],
   "source": [
    "# import warnings\n",
    "# warnings.filterwarnings(\"ignore\")\n",
    "import sklearn.datasets as dsts\n",
    "import numpy as np\n",
    "from mondrian import MondrianTreeClassifier,MondrianForestClassifier\n",
    "from sklearn.model_selection import train_test_split\n",
    "import h5py\n",
    "from sklearn.metrics import accuracy_score\n",
    "import random\n",
    "import time\n",
    "# from sklearn.ensemble import BaggingClassifier\n",
    "# from sklearn.utils.estimator_checks import check_estimator\n",
    "\n",
    "X = dsts.load_wine().data\n",
    "y = dsts.load_wine().target\n",
    "\n",
    "X_train, X_test, y_train, y_test = train_test_split(X, y, test_size=0.20, random_state=42)\n",
    "\n",
    "with h5py.File(\"usps.h5\", 'r') as hf:\n",
    "        train = hf.get('train')\n",
    "        X_tr = train.get('data')[:]\n",
    "        y_tr = train.get('target')[:]\n",
    "        test = hf.get('test')\n",
    "        X_te = test.get('data')[:]\n",
    "        y_te = test.get('target')[:]\n"
   ]
  },
  {
   "cell_type": "code",
   "execution_count": 2,
   "metadata": {},
   "outputs": [
    {
     "output_type": "stream",
     "name": "stdout",
     "text": [
      "2.89 s ± 25.9 ms per loop (mean ± std. dev. of 7 runs, 1 loop each)\n",
      "0.6641753861484804\n"
     ]
    }
   ],
   "source": [
    "mt = MondrianTreeClassifier()\n",
    "%timeit mt.fit(X_tr,y_tr)\n",
    "\n",
    "print(accuracy_score(y_te, mt.predict(X_te)))\n",
    "\n"
   ]
  },
  {
   "cell_type": "code",
   "execution_count": 7,
   "metadata": {},
   "outputs": [
    {
     "output_type": "stream",
     "name": "stdout",
     "text": [
      "499.5019450187683\n",
      "0.9118086696562033\n",
      "4.60098934173584\n",
      "0.9367214748380668\n"
     ]
    }
   ],
   "source": [
    "clf = MondrianForestClassifier(n_estimators=100)\n",
    "\n",
    "s = time.time()\n",
    "clf.fit(X_tr,y_tr)\n",
    "print(time.time()-s)\n",
    "\n",
    "print(accuracy_score(y_te, clf.predict(X_te)))\n",
    "\n",
    "from sklearn.ensemble import RandomForestClassifier\n",
    "\n",
    "clf_2 = RandomForestClassifier(n_estimators=100)\n",
    "\n",
    "s2 = time.time()\n",
    "clf_2.fit(X_tr,y_tr)\n",
    "print(time.time()-s2)\n",
    "\n",
    "print(accuracy_score(y_te, clf_2.predict(X_te)))"
   ]
  },
  {
   "cell_type": "code",
   "execution_count": 88,
   "metadata": {},
   "outputs": [
    {
     "output_type": "execute_result",
     "data": {
      "text/plain": [
       "(4, 2)"
      ]
     },
     "metadata": {},
     "execution_count": 88
    }
   ],
   "source": [
    "X_train = np.array([[0.0,0.0],[0.25,0.25],[0.4,0.8],[1,1]])\n",
    "\n",
    "X_train.shape"
   ]
  },
  {
   "cell_type": "code",
   "execution_count": 2,
   "metadata": {},
   "outputs": [
    {
     "output_type": "stream",
     "name": "stdout",
     "text": [
      "[Feat:None,Split:None,Min_d:[0. 0.],Max_d:[1. 1.],Mass=1,Chi_left=0,chi_right=0, rho_left = 0, rho_left_c = 0,  rho_right = 0, rho_right_c = 0]\nparent_cost=0, split_cost=0.5050676712490566,all_range>0=True\n------------------------------------------------------------------\nv_left:0.19730162059217915,v_right:0.8026983794078209\nn_left:1,n_right=3\nchi_0=1.1973016205921791,chi_1=3.802698379407821\nExp_val_cut = 0.23946032411843582\nright.mass=1\nleft.mass=1\nvo:0.0\ndepth=1 n_obs=1 v_obs=0.0 v_comp=0.19730162059217915\nrho_obs=1.0\nrho_comp=4.0\nvo:0.5625\ndepth=1 n_obs=3 v_obs=0.5625 v_comp=0.24019837940782085\nrho_obs=5.80304540001676\nrho_comp=1.1969545999832403\n[Feat:None,Split:None,Min_d:[0. 0.],Max_d:[0. 0.],Mass=1,Chi_left=0,chi_right=0, rho_left = 0, rho_left_c = 0,  rho_right = 0, rho_right_c = 0, Feat:None,Split:None,Min_d:[0.25 0.25],Max_d:[1. 1.],Mass=1,Chi_left=0,chi_right=0, rho_left = 0, rho_left_c = 0,  rho_right = 0, rho_right_c = 0]\nparent_cost=0.5050676712490566, split_cost=inf,all_range>0=False\n[Feat:None,Split:None,Min_d:[0.25 0.25],Max_d:[1. 1.],Mass=1,Chi_left=0,chi_right=0, rho_left = 0, rho_left_c = 0,  rho_right = 0, rho_right_c = 0]\nparent_cost=0.5050676712490566, split_cost=0.5358024960570894,all_range>0=True\n------------------------------------------------------------------\nv_left:0.31926290162685333,v_right:0.24323709837314667\nn_left:2,n_right=1\nchi_0=7.108206426029653,chi_1=4.891793573970347\nExp_val_cut = 0.5923505355024711\nright.mass=1\nleft.mass=1\nvo:0.08250000000000002\ndepth=3 n_obs=2 v_obs=0.08250000000000002 v_comp=0.23676290162685332\nrho_obs=6.134523595675341\nrho_comp=11.865476404324658\nvo:0.0\ndepth=3 n_obs=1 v_obs=0.0 v_comp=0.24323709837314667\nrho_obs=1.0\nrho_comp=16.0\n[Feat:None,Split:None,Min_d:[0.25 0.25],Max_d:[0.4 0.8],Mass=1,Chi_left=0,chi_right=0, rho_left = 0, rho_left_c = 0,  rho_right = 0, rho_right_c = 0, Feat:None,Split:None,Min_d:[1. 1.],Max_d:[1. 1.],Mass=1,Chi_left=0,chi_right=0, rho_left = 0, rho_left_c = 0,  rho_right = 0, rho_right_c = 0]\nparent_cost=1.040870167306146, split_cost=1.83644676559747,all_range>0=True\n------------------------------------------------------------------\nv_left:0.038577365364633714,v_right:0.0439226346353663\nn_left:1,n_right=1\nchi_0=12.690110716555669,chi_1=14.309889283444331\nExp_val_cut = 0.47000410061317294\nright.mass=1\nleft.mass=1\nvo:0.0\ndepth=5 n_obs=1 v_obs=0.0 v_comp=0.038577365364633714\nrho_obs=1.0\nrho_comp=36.0\nvo:0.0\ndepth=5 n_obs=1 v_obs=0.0 v_comp=0.0439226346353663\nrho_obs=1.0\nrho_comp=36.0\n[Feat:None,Split:None,Min_d:[1. 1.],Max_d:[1. 1.],Mass=1,Chi_left=0,chi_right=0, rho_left = 0, rho_left_c = 0,  rho_right = 0, rho_right_c = 0, Feat:None,Split:None,Min_d:[0.25 0.25],Max_d:[0.25 0.25],Mass=1,Chi_left=0,chi_right=0, rho_left = 0, rho_left_c = 0,  rho_right = 0, rho_right_c = 0, Feat:None,Split:None,Min_d:[0.4 0.8],Max_d:[0.4 0.8],Mass=1,Chi_left=0,chi_right=0, rho_left = 0, rho_left_c = 0,  rho_right = 0, rho_right_c = 0]\nparent_cost=1.040870167306146, split_cost=inf,all_range>0=False\n[Feat:None,Split:None,Min_d:[0.25 0.25],Max_d:[0.25 0.25],Mass=1,Chi_left=0,chi_right=0, rho_left = 0, rho_left_c = 0,  rho_right = 0, rho_right_c = 0, Feat:None,Split:None,Min_d:[0.4 0.8],Max_d:[0.4 0.8],Mass=1,Chi_left=0,chi_right=0, rho_left = 0, rho_left_c = 0,  rho_right = 0, rho_right_c = 0]\nparent_cost=2.877316932903616, split_cost=inf,all_range>0=False\n[Feat:None,Split:None,Min_d:[0.4 0.8],Max_d:[0.4 0.8],Mass=1,Chi_left=0,chi_right=0, rho_left = 0, rho_left_c = 0,  rho_right = 0, rho_right_c = 0]\nparent_cost=2.877316932903616, split_cost=inf,all_range>0=False\n"
     ]
    }
   ],
   "source": [
    "from PolyaMondrian import MondrianPolyaTree\n",
    "import numpy as np\n",
    "\n",
    "X_train = np.array([[0.0,0.0],[0.25,0.25],[0.4,0.8],[1.0,1.0]])\n",
    "\n",
    "mpt = MondrianPolyaTree()\n",
    "\n",
    "mpt.fit(X_train)"
   ]
  },
  {
   "cell_type": "code",
   "execution_count": 14,
   "metadata": {},
   "outputs": [],
   "source": [
    "mpt.root.right.left.left"
   ]
  },
  {
   "cell_type": "code",
   "execution_count": 1,
   "metadata": {},
   "outputs": [
    {
     "output_type": "stream",
     "name": "stdout",
     "text": [
      "0.7081502979713398\n"
     ]
    }
   ],
   "source": [
    "import pandas as pd\n",
    "import scipy.io\n",
    "import numpy as np\n",
    "from pyod.utils.utility import generate_indices\n",
    "from sklearn import metrics\n",
    "from PolyaMondrian import MondrianPolyaTree\n",
    "\n",
    "mat = scipy.io.loadmat('./data/thyroid.mat')\n",
    "X_train = mat['X']\n",
    "y = mat['y']\n",
    "\n",
    "mpt = MondrianPolyaTree()\n",
    "\n",
    "mpt.fit(X_train)\n",
    "    \n",
    "scores = mpt.score_all()\n",
    "\n",
    "fpr, tpr, thresholds = metrics.roc_curve(y, scores, pos_label=1)\n",
    "auc = metrics.auc(fpr, tpr)"
   ]
  },
  {
   "cell_type": "code",
   "execution_count": 3,
   "metadata": {},
   "outputs": [
    {
     "output_type": "execute_result",
     "data": {
      "text/plain": [
       "52"
      ]
     },
     "metadata": {},
     "execution_count": 3
    }
   ],
   "source": [
    "np.count_nonzero(scores > 0.00003)"
   ]
  },
  {
   "cell_type": "code",
   "execution_count": 7,
   "metadata": {},
   "outputs": [
    {
     "output_type": "error",
     "ename": "IndexError",
     "evalue": "too many indices for array: array is 1-dimensional, but 2 were indexed",
     "traceback": [
      "\u001b[1;31m---------------------------------------------------------------------------\u001b[0m",
      "\u001b[1;31mIndexError\u001b[0m                                Traceback (most recent call last)",
      "\u001b[1;32m<ipython-input-7-ba8313d33328>\u001b[0m in \u001b[0;36m<module>\u001b[1;34m\u001b[0m\n\u001b[0;32m      3\u001b[0m \u001b[0mroc_auc\u001b[0m \u001b[1;33m=\u001b[0m \u001b[0mdict\u001b[0m\u001b[1;33m(\u001b[0m\u001b[1;33m)\u001b[0m\u001b[1;33m\u001b[0m\u001b[0m\n\u001b[0;32m      4\u001b[0m \u001b[1;32mfor\u001b[0m \u001b[0mi\u001b[0m \u001b[1;32min\u001b[0m \u001b[0mrange\u001b[0m\u001b[1;33m(\u001b[0m\u001b[1;36m2\u001b[0m\u001b[1;33m)\u001b[0m\u001b[1;33m:\u001b[0m\u001b[1;33m\u001b[0m\u001b[0m\n\u001b[1;32m----> 5\u001b[1;33m     \u001b[0mfpr\u001b[0m\u001b[1;33m[\u001b[0m\u001b[0mi\u001b[0m\u001b[1;33m]\u001b[0m\u001b[1;33m,\u001b[0m \u001b[0mtpr\u001b[0m\u001b[1;33m[\u001b[0m\u001b[0mi\u001b[0m\u001b[1;33m]\u001b[0m\u001b[1;33m,\u001b[0m \u001b[0m_\u001b[0m \u001b[1;33m=\u001b[0m \u001b[0mmetrics\u001b[0m\u001b[1;33m.\u001b[0m\u001b[0mroc_curve\u001b[0m\u001b[1;33m(\u001b[0m\u001b[0my\u001b[0m\u001b[1;33m[\u001b[0m\u001b[1;33m:\u001b[0m\u001b[1;33m,\u001b[0m \u001b[0mi\u001b[0m\u001b[1;33m]\u001b[0m\u001b[1;33m,\u001b[0m \u001b[0mscores\u001b[0m\u001b[1;33m[\u001b[0m\u001b[1;33m:\u001b[0m\u001b[1;33m,\u001b[0m \u001b[0mi\u001b[0m\u001b[1;33m]\u001b[0m\u001b[1;33m)\u001b[0m\u001b[1;33m\u001b[0m\u001b[0m\n\u001b[0m\u001b[0;32m      6\u001b[0m     \u001b[0mroc_auc\u001b[0m\u001b[1;33m[\u001b[0m\u001b[0mi\u001b[0m\u001b[1;33m]\u001b[0m \u001b[1;33m=\u001b[0m \u001b[0mmetrics\u001b[0m\u001b[1;33m.\u001b[0m\u001b[0mauc\u001b[0m\u001b[1;33m(\u001b[0m\u001b[0mfpr\u001b[0m\u001b[1;33m[\u001b[0m\u001b[0mi\u001b[0m\u001b[1;33m]\u001b[0m\u001b[1;33m,\u001b[0m \u001b[0mtpr\u001b[0m\u001b[1;33m[\u001b[0m\u001b[0mi\u001b[0m\u001b[1;33m]\u001b[0m\u001b[1;33m)\u001b[0m\u001b[1;33m\u001b[0m\u001b[0m\n\u001b[0;32m      7\u001b[0m \u001b[1;33m\u001b[0m\u001b[0m\n",
      "\u001b[1;31mIndexError\u001b[0m: too many indices for array: array is 1-dimensional, but 2 were indexed"
     ]
    }
   ],
   "source": [
    "fpr, tpr, thresholds = metrics.roc_curve(y, scores, pos_label=1)\n",
    "import matplotlib.pyplot as plt\n",
    "\n",
    "\n",
    "plt.figure()\n",
    "lw = 2\n",
    "plt.plot(fpr, tpr, color='darkorange',\n",
    "         lw=lw, label='ROC curve (area = %0.2f)' % auc)\n",
    "plt.plot([0, 1], [0, 1], color='navy', lw=lw, linestyle='--')\n",
    "plt.xlim([0.0, 1.0])\n",
    "plt.ylim([0.0, 1.05])\n",
    "plt.xlabel('False Positive Rate')\n",
    "plt.ylabel('True Positive Rate')\n",
    "plt.title('Receiver operating characteristic example')\n",
    "plt.legend(loc=\"lower right\")\n",
    "plt.show()"
   ]
  }
 ]
}